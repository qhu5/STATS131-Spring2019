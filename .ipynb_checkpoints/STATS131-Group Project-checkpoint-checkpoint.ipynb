{
 "cells": [
  {
   "cell_type": "markdown",
   "metadata": {},
   "source": [
    "# CPI prediction project - STATS 131\n",
    "Group memebers: Kaixin Wang, Qin Hu, Ruby Zhang, and Emily Suan\n",
    "\n",
    "## 1. Objective:\n",
    "Predict CPI (customer price index) of countries using predictors relevant to economic growth. \n",
    "\n",
    "## 2. Introduction:\n",
    "### Datasets:\n",
    "* GDP_and_GDP_Per_Capita.csv (1)\n",
    "* Expenditure_on_Health.csv (2)\n",
    "* Production_Trade_and_Supply_of_Energy.csv (3)\n",
    "* Internet_Usage.csv (4)\n",
    "* Public_Expenditure_on_Education.csv (5)\n",
    "* Tourist_Visitors_Arrival_and_Expenditure.csv (6)\n",
    "* GDP_on_R&D.csv (7)\n",
    "* Exchange_Rates.csv (8)\n",
    "* Consumer_Price_Index.csv (9)\n",
    "\n",
    "### Variables from datasets:\n",
    "* response: CPI (9)\n",
    "* predictors:\n",
    "    - GDP (1)\n",
    "    - expenditure on health (2)\n",
    "    - energy usage (3)\n",
    "    - Internet usage (4)\n",
    "    - expenditure on education (5)\n",
    "    - expenditure on tourism (6)\n",
    "    - expenditure on science & technology (7)\n",
    "    - exchange rate (8)\n",
    "    \n",
    "### Datasets sources:\n",
    "United Nations: http://data.un.org/\n",
    "- National accounts (1)\n",
    "    - GDP and GDP per capita\n",
    "- Nutrition and health (2)\n",
    "    - Health expenditure\n",
    "- Energy (3)\n",
    "    - Energy production, trade and consumption\n",
    "- Communication (4)\n",
    "    - Internet usage\n",
    "- Education (5)\n",
    "    - Public expenditure on education\n",
    "- Science and technology (7)\n",
    "    - Human resources in R & D\n",
    "- Finance (8)\n",
    "    - Exchange rates\n",
    "- Price and production indices (9)\n",
    "    - Consumer price indices\n",
    "   "
   ]
  },
  {
   "cell_type": "markdown",
   "metadata": {},
   "source": [
    "## 3.  Data Clean-up:"
   ]
  },
  {
   "cell_type": "code",
   "execution_count": 1,
   "metadata": {},
   "outputs": [],
   "source": [
    "import numpy as np\n",
    "import pandas as pd\n",
    "import matplotlib.pyplot as plt\n",
    "import seaborn as sns"
   ]
  },
  {
   "cell_type": "code",
   "execution_count": 2,
   "metadata": {},
   "outputs": [],
   "source": [
    "# handling warning messages:\n",
    "import warnings\n",
    "warnings.filterwarnings('ignore')"
   ]
  },
  {
   "cell_type": "code",
   "execution_count": 3,
   "metadata": {},
   "outputs": [
    {
     "data": {
      "text/html": [
       "<div>\n",
       "<style scoped>\n",
       "    .dataframe tbody tr th:only-of-type {\n",
       "        vertical-align: middle;\n",
       "    }\n",
       "\n",
       "    .dataframe tbody tr th {\n",
       "        vertical-align: top;\n",
       "    }\n",
       "\n",
       "    .dataframe thead th {\n",
       "        text-align: right;\n",
       "    }\n",
       "</style>\n",
       "<table border=\"1\" class=\"dataframe\">\n",
       "  <thead>\n",
       "    <tr style=\"text-align: right;\">\n",
       "      <th></th>\n",
       "      <th>ID</th>\n",
       "      <th>Country</th>\n",
       "      <th>Year</th>\n",
       "      <th>Series</th>\n",
       "      <th>Value</th>\n",
       "    </tr>\n",
       "  </thead>\n",
       "  <tbody>\n",
       "    <tr>\n",
       "      <th>0</th>\n",
       "      <td>4</td>\n",
       "      <td>Afghanistan</td>\n",
       "      <td>2005</td>\n",
       "      <td>Consumer price index: General</td>\n",
       "      <td>71.1</td>\n",
       "    </tr>\n",
       "    <tr>\n",
       "      <th>1</th>\n",
       "      <td>4</td>\n",
       "      <td>Afghanistan</td>\n",
       "      <td>2010</td>\n",
       "      <td>Consumer price index: General</td>\n",
       "      <td>100</td>\n",
       "    </tr>\n",
       "    <tr>\n",
       "      <th>2</th>\n",
       "      <td>4</td>\n",
       "      <td>Afghanistan</td>\n",
       "      <td>2014</td>\n",
       "      <td>Consumer price index: General</td>\n",
       "      <td>133.1</td>\n",
       "    </tr>\n",
       "    <tr>\n",
       "      <th>3</th>\n",
       "      <td>4</td>\n",
       "      <td>Afghanistan</td>\n",
       "      <td>2015</td>\n",
       "      <td>Consumer price index: General</td>\n",
       "      <td>132.1</td>\n",
       "    </tr>\n",
       "    <tr>\n",
       "      <th>4</th>\n",
       "      <td>4</td>\n",
       "      <td>Afghanistan</td>\n",
       "      <td>2016</td>\n",
       "      <td>Consumer price index: General</td>\n",
       "      <td>137.9</td>\n",
       "    </tr>\n",
       "  </tbody>\n",
       "</table>\n",
       "</div>"
      ],
      "text/plain": [
       "   ID      Country  Year                         Series  Value\n",
       "0   4  Afghanistan  2005  Consumer price index: General   71.1\n",
       "1   4  Afghanistan  2010  Consumer price index: General    100\n",
       "2   4  Afghanistan  2014  Consumer price index: General  133.1\n",
       "3   4  Afghanistan  2015  Consumer price index: General  132.1\n",
       "4   4  Afghanistan  2016  Consumer price index: General  137.9"
      ]
     },
     "execution_count": 3,
     "metadata": {},
     "output_type": "execute_result"
    }
   ],
   "source": [
    "CPI = pd.read_csv(\"Consumer_Price_Index.csv\", encoding =\"ISO-8859-1\")\n",
    "CPI.Series.unique()      # to extra certain rows\n",
    "CPI = CPI.loc[CPI.Series == 'Consumer price index: General']\n",
    "countries = CPI.Country.unique()\n",
    "CPI.head()"
   ]
  },
  {
   "cell_type": "code",
   "execution_count": 4,
   "metadata": {},
   "outputs": [
    {
     "data": {
      "text/html": [
       "<div>\n",
       "<style scoped>\n",
       "    .dataframe tbody tr th:only-of-type {\n",
       "        vertical-align: middle;\n",
       "    }\n",
       "\n",
       "    .dataframe tbody tr th {\n",
       "        vertical-align: top;\n",
       "    }\n",
       "\n",
       "    .dataframe thead th {\n",
       "        text-align: right;\n",
       "    }\n",
       "</style>\n",
       "<table border=\"1\" class=\"dataframe\">\n",
       "  <thead>\n",
       "    <tr style=\"text-align: right;\">\n",
       "      <th></th>\n",
       "      <th>ID</th>\n",
       "      <th>Country</th>\n",
       "      <th>Year</th>\n",
       "      <th>Series</th>\n",
       "      <th>Value</th>\n",
       "    </tr>\n",
       "  </thead>\n",
       "  <tbody>\n",
       "    <tr>\n",
       "      <th>0</th>\n",
       "      <td>4</td>\n",
       "      <td>Afghanistan</td>\n",
       "      <td>2005</td>\n",
       "      <td>Current health expenditure (% of GDP)</td>\n",
       "      <td>9.9</td>\n",
       "    </tr>\n",
       "    <tr>\n",
       "      <th>1</th>\n",
       "      <td>4</td>\n",
       "      <td>Afghanistan</td>\n",
       "      <td>2010</td>\n",
       "      <td>Current health expenditure (% of GDP)</td>\n",
       "      <td>8.6</td>\n",
       "    </tr>\n",
       "    <tr>\n",
       "      <th>2</th>\n",
       "      <td>4</td>\n",
       "      <td>Afghanistan</td>\n",
       "      <td>2013</td>\n",
       "      <td>Current health expenditure (% of GDP)</td>\n",
       "      <td>8.8</td>\n",
       "    </tr>\n",
       "    <tr>\n",
       "      <th>3</th>\n",
       "      <td>4</td>\n",
       "      <td>Afghanistan</td>\n",
       "      <td>2014</td>\n",
       "      <td>Current health expenditure (% of GDP)</td>\n",
       "      <td>9.7</td>\n",
       "    </tr>\n",
       "    <tr>\n",
       "      <th>4</th>\n",
       "      <td>4</td>\n",
       "      <td>Afghanistan</td>\n",
       "      <td>2015</td>\n",
       "      <td>Current health expenditure (% of GDP)</td>\n",
       "      <td>10.3</td>\n",
       "    </tr>\n",
       "  </tbody>\n",
       "</table>\n",
       "</div>"
      ],
      "text/plain": [
       "   ID      Country  Year                                 Series  Value\n",
       "0   4  Afghanistan  2005  Current health expenditure (% of GDP)    9.9\n",
       "1   4  Afghanistan  2010  Current health expenditure (% of GDP)    8.6\n",
       "2   4  Afghanistan  2013  Current health expenditure (% of GDP)    8.8\n",
       "3   4  Afghanistan  2014  Current health expenditure (% of GDP)    9.7\n",
       "4   4  Afghanistan  2015  Current health expenditure (% of GDP)   10.3"
      ]
     },
     "execution_count": 4,
     "metadata": {},
     "output_type": "execute_result"
    }
   ],
   "source": [
    "health = pd.read_csv(\"Expenditure_on_Health.csv\", encoding =\"ISO-8859-1\")\n",
    "health = health.loc[health.Series == 'Current health expenditure (% of GDP)']\n",
    "health.head()"
   ]
  },
  {
   "cell_type": "code",
   "execution_count": 5,
   "metadata": {},
   "outputs": [],
   "source": [
    "GDP = pd.read_csv(\"GDP_and_GDP_Per_Capita.csv\", encoding =\"ISO-8859-1\")\n",
    "gdp = GDP.loc[GDP.Series == \"GDP per capita (US dollars)\"]"
   ]
  },
  {
   "cell_type": "code",
   "execution_count": 6,
   "metadata": {},
   "outputs": [],
   "source": [
    "energy = pd.read_csv(\"Production_Trade_and_Supply_of_Energy.csv\", encoding =\"ISO-8859-1\" )\n",
    "energy = energy.loc[energy.Series == \"Primary energy production (petajoules)\"]"
   ]
  },
  {
   "cell_type": "code",
   "execution_count": 7,
   "metadata": {},
   "outputs": [],
   "source": [
    "internet = pd.read_csv(\"Internet_Usage.csv\", encoding =\"ISO-8859-1\" )"
   ]
  },
  {
   "cell_type": "code",
   "execution_count": 8,
   "metadata": {},
   "outputs": [],
   "source": [
    "education = pd.read_csv(\"Public_Expenditure_on_Education.csv\", encoding =\"ISO-8859-1\" )\n",
    "education.loc[education.Series == 'Current expenditure other than staff compensation as % of total expenditure in public institutions (%)']\n",
    "education = education.loc[education.Series == \"Public expenditure on education (% of government expenditure)\"]"
   ]
  },
  {
   "cell_type": "code",
   "execution_count": 9,
   "metadata": {},
   "outputs": [],
   "source": [
    "tourism = pd.read_csv(\"Tourist_Visitors_Arrival_and_Expenditure.csv\", encoding =\"ISO-8859-1\" )\n",
    "tourism = tourism.loc[tourism.Series == \"Tourism expenditure (millions of US dollars)\"]"
   ]
  },
  {
   "cell_type": "code",
   "execution_count": 10,
   "metadata": {},
   "outputs": [],
   "source": [
    "technology = pd.read_csv(\"GDP_on_R&D.csv\", encoding =\"ISO-8859-1\" )\n",
    "tech = technology.loc[technology.Series == 'Gross domestic expenditure on R & D: as a percentage of GDP (%)']"
   ]
  },
  {
   "cell_type": "code",
   "execution_count": 11,
   "metadata": {},
   "outputs": [],
   "source": [
    "rates = pd.read_csv(\"Exchange_Rates.csv\", encoding =\"ISO-8859-1\" )\n",
    "rates = rates.loc[rates.Series == \"Exchange rates: period average (national currency per US dollar)\"]"
   ]
  },
  {
   "cell_type": "code",
   "execution_count": 12,
   "metadata": {},
   "outputs": [
    {
     "data": {
      "text/html": [
       "<div>\n",
       "<style scoped>\n",
       "    .dataframe tbody tr th:only-of-type {\n",
       "        vertical-align: middle;\n",
       "    }\n",
       "\n",
       "    .dataframe tbody tr th {\n",
       "        vertical-align: top;\n",
       "    }\n",
       "\n",
       "    .dataframe thead th {\n",
       "        text-align: right;\n",
       "    }\n",
       "</style>\n",
       "<table border=\"1\" class=\"dataframe\">\n",
       "  <thead>\n",
       "    <tr style=\"text-align: right;\">\n",
       "      <th>Country</th>\n",
       "      <th>Afghanistan</th>\n",
       "      <th>Albania</th>\n",
       "      <th>Algeria</th>\n",
       "      <th>Andorra</th>\n",
       "      <th>Angola</th>\n",
       "      <th>Anguilla</th>\n",
       "      <th>Antigua and Barbuda</th>\n",
       "      <th>Argentina</th>\n",
       "      <th>Armenia</th>\n",
       "      <th>Aruba</th>\n",
       "      <th>...</th>\n",
       "      <th>United States of America</th>\n",
       "      <th>Uruguay</th>\n",
       "      <th>Uzbekistan</th>\n",
       "      <th>Vanuatu</th>\n",
       "      <th>Venezuela (Boliv. Rep. of)</th>\n",
       "      <th>Viet Nam</th>\n",
       "      <th>Yemen</th>\n",
       "      <th>Zambia</th>\n",
       "      <th>Zanzibar</th>\n",
       "      <th>Zimbabwe</th>\n",
       "    </tr>\n",
       "    <tr>\n",
       "      <th>Year</th>\n",
       "      <th></th>\n",
       "      <th></th>\n",
       "      <th></th>\n",
       "      <th></th>\n",
       "      <th></th>\n",
       "      <th></th>\n",
       "      <th></th>\n",
       "      <th></th>\n",
       "      <th></th>\n",
       "      <th></th>\n",
       "      <th></th>\n",
       "      <th></th>\n",
       "      <th></th>\n",
       "      <th></th>\n",
       "      <th></th>\n",
       "      <th></th>\n",
       "      <th></th>\n",
       "      <th></th>\n",
       "      <th></th>\n",
       "      <th></th>\n",
       "      <th></th>\n",
       "    </tr>\n",
       "  </thead>\n",
       "  <tbody>\n",
       "    <tr>\n",
       "      <th>1985</th>\n",
       "      <td>282</td>\n",
       "      <td>783</td>\n",
       "      <td>2,564</td>\n",
       "      <td>9,837</td>\n",
       "      <td>859</td>\n",
       "      <td>4,072</td>\n",
       "      <td>3,508</td>\n",
       "      <td>3,144</td>\n",
       "      <td>NaN</td>\n",
       "      <td>6,108</td>\n",
       "      <td>...</td>\n",
       "      <td>18,017</td>\n",
       "      <td>1,735</td>\n",
       "      <td>NaN</td>\n",
       "      <td>1,020</td>\n",
       "      <td>3,425</td>\n",
       "      <td>79</td>\n",
       "      <td>NaN</td>\n",
       "      <td>399</td>\n",
       "      <td>NaN</td>\n",
       "      <td>872</td>\n",
       "    </tr>\n",
       "    <tr>\n",
       "      <th>1995</th>\n",
       "      <td>189</td>\n",
       "      <td>770</td>\n",
       "      <td>1,452</td>\n",
       "      <td>23,359</td>\n",
       "      <td>466</td>\n",
       "      <td>10,583</td>\n",
       "      <td>7,841</td>\n",
       "      <td>7,993</td>\n",
       "      <td>426</td>\n",
       "      <td>16,442</td>\n",
       "      <td>...</td>\n",
       "      <td>28,758</td>\n",
       "      <td>6,609</td>\n",
       "      <td>589</td>\n",
       "      <td>1,621</td>\n",
       "      <td>3,375</td>\n",
       "      <td>276</td>\n",
       "      <td>387</td>\n",
       "      <td>417</td>\n",
       "      <td>235</td>\n",
       "      <td>846</td>\n",
       "    </tr>\n",
       "    <tr>\n",
       "      <th>2005</th>\n",
       "      <td>264</td>\n",
       "      <td>2,615</td>\n",
       "      <td>3,100</td>\n",
       "      <td>41,281</td>\n",
       "      <td>1,891</td>\n",
       "      <td>18,129</td>\n",
       "      <td>11,453</td>\n",
       "      <td>5,125</td>\n",
       "      <td>1,753</td>\n",
       "      <td>23,303</td>\n",
       "      <td>...</td>\n",
       "      <td>44,173</td>\n",
       "      <td>5,221</td>\n",
       "      <td>543</td>\n",
       "      <td>1,886</td>\n",
       "      <td>5,433</td>\n",
       "      <td>684</td>\n",
       "      <td>925</td>\n",
       "      <td>691</td>\n",
       "      <td>408</td>\n",
       "      <td>481</td>\n",
       "    </tr>\n",
       "    <tr>\n",
       "      <th>2010</th>\n",
       "      <td>558</td>\n",
       "      <td>4,056</td>\n",
       "      <td>4,463</td>\n",
       "      <td>39,734</td>\n",
       "      <td>3,586</td>\n",
       "      <td>19,459</td>\n",
       "      <td>12,175</td>\n",
       "      <td>10,346</td>\n",
       "      <td>3,432</td>\n",
       "      <td>23,513</td>\n",
       "      <td>...</td>\n",
       "      <td>48,574</td>\n",
       "      <td>11,938</td>\n",
       "      <td>1,382</td>\n",
       "      <td>2,966</td>\n",
       "      <td>13,566</td>\n",
       "      <td>1,310</td>\n",
       "      <td>1,309</td>\n",
       "      <td>1,463</td>\n",
       "      <td>587</td>\n",
       "      <td>720</td>\n",
       "    </tr>\n",
       "    <tr>\n",
       "      <th>2015</th>\n",
       "      <td>611</td>\n",
       "      <td>3,895</td>\n",
       "      <td>4,163</td>\n",
       "      <td>36,040</td>\n",
       "      <td>4,171</td>\n",
       "      <td>22,622</td>\n",
       "      <td>13,602</td>\n",
       "      <td>14,853</td>\n",
       "      <td>3,618</td>\n",
       "      <td>25,796</td>\n",
       "      <td>...</td>\n",
       "      <td>56,948</td>\n",
       "      <td>15,525</td>\n",
       "      <td>2,160</td>\n",
       "      <td>2,871</td>\n",
       "      <td>11,054</td>\n",
       "      <td>2,065</td>\n",
       "      <td>990</td>\n",
       "      <td>1,319</td>\n",
       "      <td>795</td>\n",
       "      <td>1,033</td>\n",
       "    </tr>\n",
       "  </tbody>\n",
       "</table>\n",
       "<p>5 rows × 214 columns</p>\n",
       "</div>"
      ],
      "text/plain": [
       "Country Afghanistan Albania Algeria Andorra Angola Anguilla  \\\n",
       "Year                                                          \n",
       "1985            282     783   2,564   9,837    859    4,072   \n",
       "1995            189     770   1,452  23,359    466   10,583   \n",
       "2005            264   2,615   3,100  41,281  1,891   18,129   \n",
       "2010            558   4,056   4,463  39,734  3,586   19,459   \n",
       "2015            611   3,895   4,163  36,040  4,171   22,622   \n",
       "\n",
       "Country Antigua and Barbuda Argentina Armenia   Aruba   ...     \\\n",
       "Year                                                    ...      \n",
       "1985                  3,508     3,144     NaN   6,108   ...      \n",
       "1995                  7,841     7,993     426  16,442   ...      \n",
       "2005                 11,453     5,125   1,753  23,303   ...      \n",
       "2010                 12,175    10,346   3,432  23,513   ...      \n",
       "2015                 13,602    14,853   3,618  25,796   ...      \n",
       "\n",
       "Country United States of America Uruguay Uzbekistan Vanuatu  \\\n",
       "Year                                                          \n",
       "1985                      18,017   1,735        NaN   1,020   \n",
       "1995                      28,758   6,609        589   1,621   \n",
       "2005                      44,173   5,221        543   1,886   \n",
       "2010                      48,574  11,938      1,382   2,966   \n",
       "2015                      56,948  15,525      2,160   2,871   \n",
       "\n",
       "Country Venezuela (Boliv. Rep. of) Viet Nam  Yemen Zambia Zanzibar Zimbabwe  \n",
       "Year                                                                         \n",
       "1985                         3,425       79    NaN    399      NaN      872  \n",
       "1995                         3,375      276    387    417      235      846  \n",
       "2005                         5,433      684    925    691      408      481  \n",
       "2010                        13,566    1,310  1,309  1,463      587      720  \n",
       "2015                        11,054    2,065    990  1,319      795    1,033  \n",
       "\n",
       "[5 rows x 214 columns]"
      ]
     },
     "execution_count": 12,
     "metadata": {},
     "output_type": "execute_result"
    }
   ],
   "source": [
    "gdp.pivot(index = \"Year\", columns = \"Country\", values = \"Value\").head()"
   ]
  },
  {
   "cell_type": "code",
   "execution_count": 13,
   "metadata": {},
   "outputs": [],
   "source": [
    "CPI = CPI.pivot(index = \"Year\", columns = \"Country\", values = \"Value\")\n",
    "GDP = gdp.pivot(index = \"Year\", columns = \"Country\", values = \"Value\")\n",
    "energy = energy.pivot(index = \"Year\", columns = \"Country\", values = \"Value\")\n",
    "health = health.pivot(index = \"Year\", columns = \"Country\", values = \"Value\")\n",
    "education = education.pivot(index = \"Year\", columns = \"Country\", values = \"Value\")\n",
    "tech = tech.pivot(index = \"Year\", columns = \"Country\", values = \"Value\")\n",
    "internet = internet.pivot(index = \"Year\", columns = \"Country\", values = \"Value\")\n",
    "rates = rates.pivot(index = \"Year\", columns = \"Country\", values = \"Value\")\n",
    "tourism = tourism.pivot(index = \"Year\", columns = \"Country\", values = \"Value\")"
   ]
  },
  {
   "cell_type": "code",
   "execution_count": 14,
   "metadata": {
    "scrolled": false
   },
   "outputs": [],
   "source": [
    "name = 'United States of America'\n",
    "table1 = pd.DataFrame(CPI.loc[:, name])\n",
    "table1 = pd.concat([table1, pd.DataFrame(GDP.loc[:, name]), pd.DataFrame(energy.loc[:, name]), pd.DataFrame(tech.loc[:, name]), pd.DataFrame(internet.loc[:, name]), pd.DataFrame(tourism.loc[:, name]), pd.DataFrame(health.loc[:, name])], keys = [\"Energy\", \"Tech\", \"Education\", \"Internet\", \"Tourism\", \"Health\"])\n",
    "table1 = table1.swaplevel().unstack()\n",
    "table1.fillna(method = \"ffill\", inplace = True)\n",
    "table1.fillna(method = \"bfill\", inplace = True)"
   ]
  },
  {
   "cell_type": "code",
   "execution_count": 15,
   "metadata": {},
   "outputs": [
    {
     "data": {
      "text/html": [
       "<div>\n",
       "<style scoped>\n",
       "    .dataframe tbody tr th:only-of-type {\n",
       "        vertical-align: middle;\n",
       "    }\n",
       "\n",
       "    .dataframe tbody tr th {\n",
       "        vertical-align: top;\n",
       "    }\n",
       "\n",
       "    .dataframe thead tr th {\n",
       "        text-align: left;\n",
       "    }\n",
       "\n",
       "    .dataframe thead tr:last-of-type th {\n",
       "        text-align: right;\n",
       "    }\n",
       "</style>\n",
       "<table border=\"1\" class=\"dataframe\">\n",
       "  <thead>\n",
       "    <tr>\n",
       "      <th></th>\n",
       "      <th colspan=\"6\" halign=\"left\">United States of America</th>\n",
       "    </tr>\n",
       "    <tr>\n",
       "      <th></th>\n",
       "      <th>Energy</th>\n",
       "      <th>Tech</th>\n",
       "      <th>Education</th>\n",
       "      <th>Internet</th>\n",
       "      <th>Tourism</th>\n",
       "      <th>Health</th>\n",
       "    </tr>\n",
       "    <tr>\n",
       "      <th>Year</th>\n",
       "      <th></th>\n",
       "      <th></th>\n",
       "      <th></th>\n",
       "      <th></th>\n",
       "      <th></th>\n",
       "      <th></th>\n",
       "    </tr>\n",
       "  </thead>\n",
       "  <tbody>\n",
       "    <tr>\n",
       "      <th>1985</th>\n",
       "      <td>69.9</td>\n",
       "      <td>18,017</td>\n",
       "      <td>68,588</td>\n",
       "      <td>2.5</td>\n",
       "      <td>43.1</td>\n",
       "      <td>93,743</td>\n",
       "    </tr>\n",
       "    <tr>\n",
       "      <th>1990</th>\n",
       "      <td>69.9</td>\n",
       "      <td>18,017</td>\n",
       "      <td>68,588</td>\n",
       "      <td>2.5</td>\n",
       "      <td>43.1</td>\n",
       "      <td>93,743</td>\n",
       "    </tr>\n",
       "    <tr>\n",
       "      <th>1995</th>\n",
       "      <td>69.9</td>\n",
       "      <td>28,758</td>\n",
       "      <td>68,963</td>\n",
       "      <td>2.5</td>\n",
       "      <td>43.1</td>\n",
       "      <td>93,743</td>\n",
       "    </tr>\n",
       "    <tr>\n",
       "      <th>2000</th>\n",
       "      <td>69.9</td>\n",
       "      <td>28,758</td>\n",
       "      <td>69,339</td>\n",
       "      <td>2.5</td>\n",
       "      <td>43.1</td>\n",
       "      <td>93,743</td>\n",
       "    </tr>\n",
       "    <tr>\n",
       "      <th>2001</th>\n",
       "      <td>69.9</td>\n",
       "      <td>28,758</td>\n",
       "      <td>69,339</td>\n",
       "      <td>2.5</td>\n",
       "      <td>43.1</td>\n",
       "      <td>93,743</td>\n",
       "    </tr>\n",
       "  </tbody>\n",
       "</table>\n",
       "</div>"
      ],
      "text/plain": [
       "     United States of America                                           \n",
       "                       Energy    Tech Education Internet Tourism  Health\n",
       "Year                                                                    \n",
       "1985                     69.9  18,017    68,588      2.5    43.1  93,743\n",
       "1990                     69.9  18,017    68,588      2.5    43.1  93,743\n",
       "1995                     69.9  28,758    68,963      2.5    43.1  93,743\n",
       "2000                     69.9  28,758    69,339      2.5    43.1  93,743\n",
       "2001                     69.9  28,758    69,339      2.5    43.1  93,743"
      ]
     },
     "execution_count": 15,
     "metadata": {},
     "output_type": "execute_result"
    }
   ],
   "source": [
    "table1.head()"
   ]
  },
  {
   "cell_type": "code",
   "execution_count": 16,
   "metadata": {
    "scrolled": true
   },
   "outputs": [],
   "source": [
    "name = 'China'\n",
    "table2 = pd.DataFrame(CPI.loc[:, name])\n",
    "table2 = pd.concat([table2, pd.DataFrame(GDP.loc[:, name]), pd.DataFrame(energy.loc[:, name]), pd.DataFrame(tech.loc[:, name]), pd.DataFrame(rates.loc[:, name]), pd.DataFrame(internet.loc[:, name]), pd.DataFrame(tourism.loc[:, name]), pd.DataFrame(health.loc[:, name])], keys = [\"Energy\", \"Tech\", \"Rates\", \"Internet\", \"Tourism\", \"Health\"])\n",
    "table2 = table2.swaplevel().unstack()\n",
    "table2.fillna(method = \"ffill\", inplace = True)\n",
    "table2.fillna(method = \"bfill\", inplace = True)"
   ]
  },
  {
   "cell_type": "code",
   "execution_count": 17,
   "metadata": {},
   "outputs": [
    {
     "data": {
      "text/html": [
       "<div>\n",
       "<style scoped>\n",
       "    .dataframe tbody tr th:only-of-type {\n",
       "        vertical-align: middle;\n",
       "    }\n",
       "\n",
       "    .dataframe tbody tr th {\n",
       "        vertical-align: top;\n",
       "    }\n",
       "\n",
       "    .dataframe thead tr th {\n",
       "        text-align: left;\n",
       "    }\n",
       "\n",
       "    .dataframe thead tr:last-of-type th {\n",
       "        text-align: right;\n",
       "    }\n",
       "</style>\n",
       "<table border=\"1\" class=\"dataframe\">\n",
       "  <thead>\n",
       "    <tr>\n",
       "      <th></th>\n",
       "      <th colspan=\"6\" halign=\"left\">China</th>\n",
       "    </tr>\n",
       "    <tr>\n",
       "      <th></th>\n",
       "      <th>Energy</th>\n",
       "      <th>Tech</th>\n",
       "      <th>Rates</th>\n",
       "      <th>Internet</th>\n",
       "      <th>Tourism</th>\n",
       "      <th>Health</th>\n",
       "    </tr>\n",
       "    <tr>\n",
       "      <th>Year</th>\n",
       "      <th></th>\n",
       "      <th></th>\n",
       "      <th></th>\n",
       "      <th></th>\n",
       "      <th></th>\n",
       "      <th></th>\n",
       "    </tr>\n",
       "  </thead>\n",
       "  <tbody>\n",
       "    <tr>\n",
       "      <th>1985</th>\n",
       "      <td>100</td>\n",
       "      <td>289</td>\n",
       "      <td>32,727</td>\n",
       "      <td>1.3</td>\n",
       "      <td>2.9</td>\n",
       "      <td>1.8</td>\n",
       "    </tr>\n",
       "    <tr>\n",
       "      <th>1990</th>\n",
       "      <td>100</td>\n",
       "      <td>289</td>\n",
       "      <td>32,727</td>\n",
       "      <td>1.3</td>\n",
       "      <td>2.9</td>\n",
       "      <td>1.8</td>\n",
       "    </tr>\n",
       "    <tr>\n",
       "      <th>1995</th>\n",
       "      <td>100</td>\n",
       "      <td>592</td>\n",
       "      <td>39,692</td>\n",
       "      <td>1.3</td>\n",
       "      <td>8.4</td>\n",
       "      <td>1.8</td>\n",
       "    </tr>\n",
       "    <tr>\n",
       "      <th>2000</th>\n",
       "      <td>100</td>\n",
       "      <td>592</td>\n",
       "      <td>40,783</td>\n",
       "      <td>1.3</td>\n",
       "      <td>8.4</td>\n",
       "      <td>1.8</td>\n",
       "    </tr>\n",
       "    <tr>\n",
       "      <th>2001</th>\n",
       "      <td>100</td>\n",
       "      <td>592</td>\n",
       "      <td>40,783</td>\n",
       "      <td>1.3</td>\n",
       "      <td>8.4</td>\n",
       "      <td>1.8</td>\n",
       "    </tr>\n",
       "  </tbody>\n",
       "</table>\n",
       "</div>"
      ],
      "text/plain": [
       "      China                                     \n",
       "     Energy Tech   Rates Internet Tourism Health\n",
       "Year                                            \n",
       "1985    100  289  32,727      1.3     2.9    1.8\n",
       "1990    100  289  32,727      1.3     2.9    1.8\n",
       "1995    100  592  39,692      1.3     8.4    1.8\n",
       "2000    100  592  40,783      1.3     8.4    1.8\n",
       "2001    100  592  40,783      1.3     8.4    1.8"
      ]
     },
     "execution_count": 17,
     "metadata": {},
     "output_type": "execute_result"
    }
   ],
   "source": [
    "table2.head()"
   ]
  },
  {
   "cell_type": "markdown",
   "metadata": {},
   "source": [
    "## 4. Exploratory Data Analysis:"
   ]
  },
  {
   "cell_type": "code",
   "execution_count": 18,
   "metadata": {},
   "outputs": [
    {
     "ename": "TypeError",
     "evalue": "can't multiply sequence by non-int of type 'str'",
     "output_type": "error",
     "traceback": [
      "\u001b[0;31m---------------------------------------------------------------------------\u001b[0m",
      "\u001b[0;31mTypeError\u001b[0m                                 Traceback (most recent call last)",
      "\u001b[0;32m<ipython-input-18-34d217e5b9cf>\u001b[0m in \u001b[0;36m<module>\u001b[0;34m\u001b[0m\n\u001b[1;32m      2\u001b[0m \u001b[0mrates\u001b[0m\u001b[0;34m[\u001b[0m\u001b[0;34m\"United States of America\"\u001b[0m\u001b[0;34m]\u001b[0m \u001b[0;34m=\u001b[0m \u001b[0;36m1.0\u001b[0m   \u001b[0;31m# rates for US is always 1\u001b[0m\u001b[0;34m\u001b[0m\u001b[0;34m\u001b[0m\u001b[0m\n\u001b[1;32m      3\u001b[0m \u001b[0meducation\u001b[0m\u001b[0;34m[\u001b[0m\u001b[0;34m\"China\"\u001b[0m\u001b[0;34m]\u001b[0m \u001b[0;34m=\u001b[0m \u001b[0;36m0\u001b[0m                    \u001b[0;31m# no entries for education of China\u001b[0m\u001b[0;34m\u001b[0m\u001b[0;34m\u001b[0m\u001b[0m\n\u001b[0;32m----> 4\u001b[0;31m \u001b[0mCPI\u001b[0m\u001b[0;34m[\u001b[0m\u001b[0;34m\"China\"\u001b[0m\u001b[0;34m]\u001b[0m\u001b[0;34m.\u001b[0m\u001b[0mloc\u001b[0m\u001b[0;34m[\u001b[0m\u001b[0mCPI\u001b[0m\u001b[0;34m[\u001b[0m\u001b[0;34m\"China\"\u001b[0m\u001b[0;34m]\u001b[0m\u001b[0;34m.\u001b[0m\u001b[0mindex\u001b[0m \u001b[0;34m==\u001b[0m \u001b[0;36m2016\u001b[0m\u001b[0;34m]\u001b[0m \u001b[0;34m=\u001b[0m \u001b[0mCPI\u001b[0m\u001b[0;34m[\u001b[0m\u001b[0;34m\"China\"\u001b[0m\u001b[0;34m]\u001b[0m\u001b[0;34m.\u001b[0m\u001b[0mloc\u001b[0m\u001b[0;34m[\u001b[0m\u001b[0mCPI\u001b[0m\u001b[0;34m[\u001b[0m\u001b[0;34m\"China\"\u001b[0m\u001b[0;34m]\u001b[0m\u001b[0;34m.\u001b[0m\u001b[0mindex\u001b[0m \u001b[0;34m==\u001b[0m \u001b[0;36m2015\u001b[0m\u001b[0;34m]\u001b[0m\u001b[0;34m.\u001b[0m\u001b[0miloc\u001b[0m\u001b[0;34m[\u001b[0m\u001b[0;36m0\u001b[0m\u001b[0;34m]\u001b[0m \u001b[0;34m*\u001b[0m \u001b[0mCPI\u001b[0m\u001b[0;34m[\u001b[0m\u001b[0;34m\"China\"\u001b[0m\u001b[0;34m]\u001b[0m\u001b[0;34m.\u001b[0m\u001b[0mloc\u001b[0m\u001b[0;34m[\u001b[0m\u001b[0mCPI\u001b[0m\u001b[0;34m[\u001b[0m\u001b[0;34m\"China\"\u001b[0m\u001b[0;34m]\u001b[0m\u001b[0;34m.\u001b[0m\u001b[0mindex\u001b[0m \u001b[0;34m==\u001b[0m \u001b[0;36m2016\u001b[0m\u001b[0;34m]\u001b[0m\u001b[0;34m.\u001b[0m\u001b[0miloc\u001b[0m\u001b[0;34m[\u001b[0m\u001b[0;36m0\u001b[0m\u001b[0;34m]\u001b[0m \u001b[0;34m/\u001b[0m \u001b[0;36m100\u001b[0m\u001b[0;34m\u001b[0m\u001b[0;34m\u001b[0m\u001b[0m\n\u001b[0m\u001b[1;32m      5\u001b[0m \u001b[0mCPI\u001b[0m\u001b[0;34m[\u001b[0m\u001b[0;34m\"China\"\u001b[0m\u001b[0;34m]\u001b[0m\u001b[0;34m.\u001b[0m\u001b[0mloc\u001b[0m\u001b[0;34m[\u001b[0m\u001b[0mCPI\u001b[0m\u001b[0;34m[\u001b[0m\u001b[0;34m\"China\"\u001b[0m\u001b[0;34m]\u001b[0m\u001b[0;34m.\u001b[0m\u001b[0mindex\u001b[0m \u001b[0;34m==\u001b[0m \u001b[0;36m2017\u001b[0m\u001b[0;34m]\u001b[0m \u001b[0;34m=\u001b[0m \u001b[0mCPI\u001b[0m\u001b[0;34m[\u001b[0m\u001b[0;34m\"China\"\u001b[0m\u001b[0;34m]\u001b[0m\u001b[0;34m.\u001b[0m\u001b[0mloc\u001b[0m\u001b[0;34m[\u001b[0m\u001b[0mCPI\u001b[0m\u001b[0;34m[\u001b[0m\u001b[0;34m\"China\"\u001b[0m\u001b[0;34m]\u001b[0m\u001b[0;34m.\u001b[0m\u001b[0mindex\u001b[0m \u001b[0;34m==\u001b[0m \u001b[0;36m2015\u001b[0m\u001b[0;34m]\u001b[0m\u001b[0;34m.\u001b[0m\u001b[0miloc\u001b[0m\u001b[0;34m[\u001b[0m\u001b[0;36m0\u001b[0m\u001b[0;34m]\u001b[0m  \u001b[0;34m*\u001b[0m \u001b[0mCPI\u001b[0m\u001b[0;34m[\u001b[0m\u001b[0;34m\"China\"\u001b[0m\u001b[0;34m]\u001b[0m\u001b[0;34m.\u001b[0m\u001b[0mloc\u001b[0m\u001b[0;34m[\u001b[0m\u001b[0mCPI\u001b[0m\u001b[0;34m[\u001b[0m\u001b[0;34m\"China\"\u001b[0m\u001b[0;34m]\u001b[0m\u001b[0;34m.\u001b[0m\u001b[0mindex\u001b[0m \u001b[0;34m==\u001b[0m \u001b[0;36m2017\u001b[0m\u001b[0;34m]\u001b[0m\u001b[0;34m.\u001b[0m\u001b[0miloc\u001b[0m\u001b[0;34m[\u001b[0m\u001b[0;36m0\u001b[0m\u001b[0;34m]\u001b[0m \u001b[0;34m/\u001b[0m \u001b[0;36m100\u001b[0m\u001b[0;34m\u001b[0m\u001b[0;34m\u001b[0m\u001b[0m\n\u001b[1;32m      6\u001b[0m \u001b[0myears\u001b[0m \u001b[0;34m=\u001b[0m \u001b[0mCPI\u001b[0m\u001b[0;34m.\u001b[0m\u001b[0mindex\u001b[0m\u001b[0;34m\u001b[0m\u001b[0;34m\u001b[0m\u001b[0m\n",
      "\u001b[0;31mTypeError\u001b[0m: can't multiply sequence by non-int of type 'str'"
     ]
    }
   ],
   "source": [
    "# processing data:\n",
    "rates[\"United States of America\"] = 1.0   # rates for US is always 1\n",
    "education[\"China\"] = 0                    # no entries for education of China\n",
    "CPI[\"China\"].loc[CPI[\"China\"].index == 2016] = CPI[\"China\"].loc[CPI[\"China\"].index == 2015].iloc[0] * CPI[\"China\"].loc[CPI[\"China\"].index == 2016].iloc[0] / 100\n",
    "CPI[\"China\"].loc[CPI[\"China\"].index == 2017] = CPI[\"China\"].loc[CPI[\"China\"].index == 2015].iloc[0]  * CPI[\"China\"].loc[CPI[\"China\"].index == 2017].iloc[0] / 100\n",
    "years = CPI.index\n",
    "# since CPI = 100 for year 2010 (base year)\n",
    "years = [1995, 2005, 2014, 2015, 2016, 2017]"
   ]
  },
  {
   "cell_type": "code",
   "execution_count": null,
   "metadata": {
    "scrolled": true
   },
   "outputs": [],
   "source": [
    "# G7 countires: United States of America, Germany, France, Japan, Canada, United Kingdon and Italy\n",
    "# BRICS countires: Brazil, Russian Federation, India, China and South Africa\n",
    "G7 = [\"United States of America\", \"Germany\", \"France\", \"Japan\", \"Canada\", \"United Kingdom\", \"Italy\"]\n",
    "BRICS = [\"Brazil\", \"Russian Federation\", \"India\", \"China\", \"South Africa\"]\n",
    "df1 = pd.DataFrame()\n",
    "for name in G7: \n",
    "    table = pd.DataFrame(CPI.loc[years, name])\n",
    "    table = pd.concat([table, pd.DataFrame(GDP.loc[years, name]), pd.DataFrame(energy.loc[years, name]), pd.DataFrame(tech.loc[years, name]), pd.DataFrame(education.loc[years, name]), pd.DataFrame(rates.loc[years, name]), pd.DataFrame(internet.loc[years, name]), pd.DataFrame(tourism.loc[years, name]), pd.DataFrame(health.loc[years, name])], keys = [\"CPI\", \"GDP\", \"Energy\", \"Tech\", \"Education\", \"Rates\", \"Internet\", \"Tourism\", \"Health\"])\n",
    "    table = table.swaplevel().unstack()\n",
    "    table.fillna(method = \"ffill\", inplace = True)\n",
    "    table.fillna(method = \"bfill\", inplace = True)\n",
    "    df1 = pd.concat([df1, table], axis = 1)\n",
    "    \n",
    "df2 = pd.DataFrame()\n",
    "for name in BRICS: \n",
    "    table = pd.DataFrame(CPI.loc[years, name])\n",
    "    table = pd.concat([table, pd.DataFrame(GDP.loc[years, name]), pd.DataFrame(energy.loc[years, name]), pd.DataFrame(tech.loc[years, name]), pd.DataFrame(education.loc[years, name]), pd.DataFrame(rates.loc[years, name]), pd.DataFrame(internet.loc[years, name]), pd.DataFrame(tourism.loc[years, name]), pd.DataFrame(health.loc[years, name])], keys = [\"CPI\", \"GDP\", \"Energy\", \"Tech\", \"Education\", \"Rates\", \"Internet\", \"Tourism\", \"Health\"])\n",
    "    table = table.swaplevel().unstack()\n",
    "    table.fillna(method = \"ffill\", inplace = True)\n",
    "    table.fillna(method = \"bfill\", inplace = True)\n",
    "    df2 = pd.concat([df2, table], axis = 1)\n",
    "    \n",
    "df1.fillna(0, inplace = True)\n",
    "df2.fillna(0, inplace = True)"
   ]
  },
  {
   "cell_type": "code",
   "execution_count": null,
   "metadata": {},
   "outputs": [],
   "source": [
    "# G7 countries:\n",
    "plt.figure(figsize = (15, 15))\n",
    "plt.subplots_adjust(bottom = 0.5, right = 1, top = 1.2, hspace = 0.5)\n",
    "for i in range(1, 8):\n",
    "    plt.subplot(3, 3, i)\n",
    "    corr = df1[G7[i - 1]].corr()\n",
    "    sns.heatmap(corr, xticklabels = corr.columns.values, yticklabels = corr.columns.values)\n",
    "    plt.title(G7[i - 1])\n",
    "plt.show()"
   ]
  },
  {
   "cell_type": "code",
   "execution_count": null,
   "metadata": {},
   "outputs": [],
   "source": [
    "# BRICS countries:\n",
    "plt.figure(figsize = (15, 15))\n",
    "plt.subplots_adjust(bottom = 0.5, right = 1, top = 1, hspace = 0.5)\n",
    "for i in range(1, 6):\n",
    "    plt.subplot(2,3,i)\n",
    "    corr = df2[BRICS[i-1]].corr()\n",
    "    sns.heatmap(corr, xticklabels = corr.columns.values, yticklabels = corr.columns.values)\n",
    "    plt.title(BRICS[i-1])\n",
    "plt.show()"
   ]
  },
  {
   "cell_type": "code",
   "execution_count": null,
   "metadata": {},
   "outputs": [],
   "source": [
    "plt.figure(figsize = (9, 5))\n",
    "for i in range(7):\n",
    "    plt.plot(df1.index, df1[G7[i]].CPI, label = G7[i])\n",
    "    plt.legend()\n",
    "    plt.title(\"CPI vs. year for G7 countries\")\n",
    "plt.show()"
   ]
  },
  {
   "cell_type": "code",
   "execution_count": null,
   "metadata": {
    "scrolled": true
   },
   "outputs": [],
   "source": [
    "plt.figure(figsize = (9, 5))\n",
    "for i in range(7):\n",
    "    plt.plot(df1.index, df1[G7[i]].GDP, label = G7[i])\n",
    "    plt.legend()\n",
    "    plt.title(\"GPD vs. year for G7 countries\")\n",
    "plt.show()"
   ]
  },
  {
   "cell_type": "code",
   "execution_count": null,
   "metadata": {
    "scrolled": true
   },
   "outputs": [],
   "source": [
    "plt.figure(figsize = (9, 5))\n",
    "colors = [\"b\",\"g\",\"m\",\"r\",\"c\",\"y\",\"p\"]\n",
    "for i in range(7):\n",
    "    plt.scatter(df1[G7[i]].GDP, df1[G7[i]].CPI, label = G7[i])\n",
    "    plt.legend()\n",
    "    plt.title(\"CPI vs. GPD for G7 countries\")\n",
    "plt.show()"
   ]
  },
  {
   "cell_type": "code",
   "execution_count": null,
   "metadata": {},
   "outputs": [],
   "source": [
    "plt.figure(figsize = (9, 5))\n",
    "for i in range(5):\n",
    "    plt.plot(df2.index, df2[BRICS[i]].CPI, label = BRICS[i])\n",
    "    plt.legend()\n",
    "    plt.title(\"CPI vs. year for BRICS countries\")\n",
    "plt.show()"
   ]
  },
  {
   "cell_type": "code",
   "execution_count": null,
   "metadata": {},
   "outputs": [],
   "source": [
    "plt.figure(figsize = (9, 5))\n",
    "for i in range(5):\n",
    "    plt.plot(df2.index, df2[BRICS[i]].GDP, label = BRICS[i])\n",
    "    plt.legend()\n",
    "    plt.title(\"GPD vs. year for BRICS countries\")\n",
    "plt.show()"
   ]
  },
  {
   "cell_type": "code",
   "execution_count": null,
   "metadata": {
    "scrolled": true
   },
   "outputs": [],
   "source": [
    "plt.figure(figsize = (9, 5))\n",
    "colors = [\"b\",\"g\",\"m\",\"r\",\"c\",\"y\",\"p\"]\n",
    "for i in range(5):\n",
    "    plt.scatter(df2[BRICS[i]].GDP, df2[BRICS[i]].CPI, label = BRICS[i])\n",
    "    plt.legend()\n",
    "    plt.title(\"CPI vs. GPD for BRICS countries\")\n",
    "plt.show()"
   ]
  },
  {
   "cell_type": "code",
   "execution_count": null,
   "metadata": {},
   "outputs": [],
   "source": [
    "sns.lmplot(\"CPI\", \"GDP\", data = df2[BRICS[0]])\n",
    "plt.show()"
   ]
  },
  {
   "cell_type": "code",
   "execution_count": null,
   "metadata": {},
   "outputs": [],
   "source": [
    "plt.figure(figsize = (9, 5))\n",
    "colors = [\"b\",\"g\",\"m\",\"r\",\"c\",\"y\",\"p\"]\n",
    "for i in range(5):\n",
    "    # plt.subplot(2,3,i+1)\n",
    "    sns.lmplot(\"CPI\", \"GDP\", data = df2[BRICS[i]])\n",
    "    plt.title(BRICS[i])\n",
    "plt.show()"
   ]
  },
  {
   "cell_type": "code",
   "execution_count": null,
   "metadata": {
    "scrolled": true
   },
   "outputs": [],
   "source": [
    "df1 = pd.concat([CPI.stack().loc[list(years), \"Italy\"], GDP.stack().loc[list(years), \"Italy\"], health.stack().loc[list(years), \"Italy\"]], axis = 1, keys = [\"CPI\", \"GDP\", \"health\"])"
   ]
  },
  {
   "cell_type": "code",
   "execution_count": null,
   "metadata": {
    "scrolled": false
   },
   "outputs": [],
   "source": [
    "# Final dataframe for modeling:\n",
    "G7 = [\"United States of America\", \"Germany\", \"France\", \"Japan\", \"Canada\", \"United Kingdom\", \"Italy\"]\n",
    "BRICS = [\"Brazil\", \"Russian Federation\", \"India\", \"China\", \"South Africa\"]\n",
    "df1 = pd.DataFrame()\n",
    "for name in G7: \n",
    "    table = pd.DataFrame(CPI.stack().loc[list(years), name])\n",
    "    table = pd.concat([table, pd.DataFrame(GDP.stack().loc[list(years), name]), pd.DataFrame(energy.stack().loc[list(years), name]), pd.DataFrame(tech.stack().loc[list(years), name]), pd.DataFrame(education.stack().loc[list(years), name]), pd.DataFrame(rates.stack().loc[list(years), name]), pd.DataFrame(internet.stack().loc[list(years), name]), pd.DataFrame(tourism.stack().loc[list(years), name]), pd.DataFrame(health.stack().loc[list(years), name])], keys = [\"CPI\", \"GDP\", \"Energy\", \"Tech\", \"Education\", \"Rates\", \"Internet\", \"Tourism\", \"Health\"], axis = 1)\n",
    "    table.fillna(method = \"ffill\", inplace = True)\n",
    "    table.fillna(method = \"bfill\", inplace = True)\n",
    "    df1 = pd.concat([df1, table])\n",
    "    \n",
    "df2 = pd.DataFrame()\n",
    "for name in BRICS: \n",
    "    table = pd.DataFrame(CPI.stack().loc[list(years), name])\n",
    "    table = pd.concat([table, pd.DataFrame(GDP.stack().loc[list(years), name]), pd.DataFrame(energy.stack().loc[list(years), name]), pd.DataFrame(tech.stack().loc[list(years), name]), pd.DataFrame(education.stack().loc[list(years), name]), pd.DataFrame(rates.stack().loc[list(years), name]), pd.DataFrame(internet.stack().loc[list(years), name]), pd.DataFrame(tourism.stack().loc[list(years), name]), pd.DataFrame(health.stack().loc[list(years), name])], keys = [\"CPI\", \"GDP\", \"Energy\", \"Tech\", \"Education\", \"Rates\", \"Internet\", \"Tourism\", \"Health\"], axis = 1)\n",
    "    table.fillna(method = \"ffill\", inplace = True)\n",
    "    table.fillna(method = \"bfill\", inplace = True)\n",
    "    df2 = pd.concat([df2, table])\n",
    "    \n",
    "df1.fillna(0, inplace = True)\n",
    "df2.fillna(0, inplace = True)\n",
    "\n",
    "df1.columns = df1.columns.droplevel(1)\n",
    "df1[\"Country\"] = df1.index.get_level_values(1)\n",
    "df1.index = df1.index.droplevel(1)\n",
    "df2.columns = df2.columns.droplevel(1)\n",
    "df2[\"Country\"] = df2.index.get_level_values(1)\n",
    "df2.index = df2.index.droplevel(1)"
   ]
  },
  {
   "cell_type": "code",
   "execution_count": null,
   "metadata": {},
   "outputs": [],
   "source": [
    "# adding country_code variable:\n",
    "# G7 countires: United States of America, Germany, France, Japan, Canada, United Kingdon and Italy\n",
    "# BRICS countires: Brazil, Russian Federation, India, China and South Africa\n",
    "code1 = {\"United States of America\" : 1, \"Germany\" : 2, \"France\" : 3, \"Japan\" : 4, \"Canada\" : 5, \n",
    "         \"United Kingdom\" : 6, \"Italy\" : 7}\n",
    "code2 = {\"Brazil\" : 8, \"Russian Federation\" : 9, \"India\" : 10, \"China\" : 11, \"South Africa\" : 12}\n",
    "df1[\"Country_code\"] = [code1[country] for country in df1.Country]\n",
    "df2[\"Country_code\"] = [code2[country] for country in df2.Country]\n",
    "df1.head()"
   ]
  },
  {
   "cell_type": "code",
   "execution_count": null,
   "metadata": {},
   "outputs": [],
   "source": [
    "CPI.loc[years, G7].agg([\"min\",\"max\"])"
   ]
  },
  {
   "cell_type": "code",
   "execution_count": null,
   "metadata": {},
   "outputs": [],
   "source": [
    "CPI.loc[years, BRICS].agg([\"min\",\"max\"])"
   ]
  },
  {
   "cell_type": "code",
   "execution_count": null,
   "metadata": {
    "scrolled": true
   },
   "outputs": [],
   "source": [
    "# adding categorical label for response variable:\n",
    "df1[\"CPI_Level\"] = [4 if var > 150 else 3 if var > 120 else 2 if var > 80 else 1 for var in df1[\"CPI\"]]\n",
    "df2[\"CPI_Level\"] = [4 if var > 150 else 3 if var > 120 else 2 if var > 80 else 1 for var in df2[\"CPI\"]]"
   ]
  },
  {
   "cell_type": "code",
   "execution_count": null,
   "metadata": {},
   "outputs": [],
   "source": [
    "# reset the index of dataframes and create a column of years:\n",
    "df1.reset_index(inplace = True)\n",
    "df2.reset_index(inplace = True)\n",
    "df2.head()"
   ]
  },
  {
   "cell_type": "code",
   "execution_count": null,
   "metadata": {},
   "outputs": [],
   "source": [
    "df2.drop([18, 19], inplace = True)\n",
    "df2.reset_index(inplace = True)\n",
    "df2.drop(\"index\", axis = 1, inplace = True)\n",
    "df2.head()"
   ]
  },
  {
   "cell_type": "code",
   "execution_count": null,
   "metadata": {},
   "outputs": [],
   "source": [
    "sns.pairplot(data = df1, y_vars = ['CPI'], x_vars = ['Year', 'GDP', 'Energy', 'Tech', 'Education', 'Rates', 'Internet', 'Tourism', 'Health'])\n",
    "plt.show()"
   ]
  },
  {
   "cell_type": "code",
   "execution_count": null,
   "metadata": {
    "scrolled": true
   },
   "outputs": [],
   "source": [
    "sns.pairplot(data = df2, y_vars = ['CPI'], x_vars = ['Year', 'GDP', 'Energy', 'Tech', 'Education', 'Rates', 'Internet', 'Tourism', 'Health'])\n",
    "plt.show()"
   ]
  },
  {
   "cell_type": "markdown",
   "metadata": {},
   "source": [
    "## 5. Data Modeling:\n",
    "\n",
    "### Predictor variables:\n",
    "- Year: categorical \n",
    "    - 6 levels: 1995, 2005, 2014, 2015, 2016, 2017\n",
    "- Country_code: \n",
    "    - 7 levels for G7 (1 to 7)\n",
    "    - 5 levels for BRICS (8 to 12)\n",
    "- GDP: numeric\n",
    "- Energy: numeric\n",
    "- Tech: numeric\n",
    "- Education: numeric\n",
    "- Rates: numeric\n",
    "- Internet: numeric\n",
    "- Tourism: numeric\n",
    "- Health: numeric\n",
    "- Group (used in multiple linear regression only): categorical\n",
    "    - 1 if the country is one of G7\n",
    "    - 2 if the country is one of BRICS\n",
    "\n",
    "### Response variable:\n",
    "\n",
    "In part I: CPI_level \n",
    "- categorical variable with 4 categories (1, 2, 3, and 4)\n",
    "  - CPI > 150: high CPI (class 4)\n",
    "  - 120 < CPI <= 150: medium CPI (class 3)\n",
    "  - 80 <= CPI <= 120: moderate CPI (class 2)\n",
    "  - CPI <= 80: low CPI (class 1)\n",
    "  \n",
    "In part II: CPI\n",
    "- numeric value of CPI\n",
    "\n",
    "### Structure:\n",
    "#### Part I: predcition on CPI_level (categorical):\n",
    "  \n",
    "(1) G7 countries modeling:\n",
    "  - KNN classifier\n",
    "  - Naive Bayes classifier\n",
    "  \n",
    "(2) BRICS countires modeling:\n",
    "  - KNN classifier\n",
    "  - Naive Bayes classifier\n",
    "  \n",
    "(3) G7 and BRICS combined:\n",
    "  - KNN classifier\n",
    "  - Naive Bayes classifier\n",
    "\n",
    "#### Part II: prediction on CPI (numeric):\n",
    "\n",
    "Multiple regression models on:\n",
    "- G7 countries\n",
    "- BRICS countries\n",
    "- G7 and BRICS combined\n"
   ]
  },
  {
   "cell_type": "code",
   "execution_count": null,
   "metadata": {},
   "outputs": [],
   "source": [
    "from sklearn.model_selection import train_test_split, cross_val_score\n",
    "from sklearn.neighbors import KNeighborsClassifier\n",
    "from sklearn.naive_bayes import GaussianNB\n",
    "from sklearn.metrics import confusion_matrix\n",
    "from sklearn.model_selection import GridSearchCV\n",
    "from sklearn import linear_model, preprocessing, model_selection"
   ]
  },
  {
   "cell_type": "code",
   "execution_count": null,
   "metadata": {},
   "outputs": [],
   "source": [
    "# handling warning messages:\n",
    "import warnings\n",
    "warnings.filterwarnings('ignore')"
   ]
  },
  {
   "cell_type": "markdown",
   "metadata": {},
   "source": [
    "## Part I: predicting CPI as categorical variables:\n"
   ]
  },
  {
   "cell_type": "markdown",
   "metadata": {},
   "source": [
    "### Transform categorical variable using OneHotEncoder:"
   ]
  },
  {
   "cell_type": "code",
   "execution_count": null,
   "metadata": {},
   "outputs": [],
   "source": [
    "from sklearn.preprocessing import OneHotEncoder"
   ]
  },
  {
   "cell_type": "code",
   "execution_count": null,
   "metadata": {},
   "outputs": [],
   "source": [
    "encode = OneHotEncoder(sparse = False)"
   ]
  },
  {
   "cell_type": "code",
   "execution_count": null,
   "metadata": {
    "scrolled": false
   },
   "outputs": [],
   "source": [
    "df1 = pd.concat([df1, pd.DataFrame(encode.fit_transform(df1[[\"Country_code\"]]), columns = G7)], axis = 1)\n",
    "df2 = pd.concat([df2, pd.DataFrame(encode.fit_transform(df2[[\"Country_code\"]]), columns = BRICS)], axis = 1)\n",
    "print(df1.columns)\n",
    "print(df2.columns)"
   ]
  },
  {
   "cell_type": "markdown",
   "metadata": {},
   "source": [
    "### Cross Validation sets:"
   ]
  },
  {
   "cell_type": "code",
   "execution_count": null,
   "metadata": {
    "scrolled": false
   },
   "outputs": [],
   "source": [
    "x1 = df1.iloc[:, [0,2,3,4,5,6,7,8,9,13,14,15,16,17,18,19]].astype(float)\n",
    "y1 = df1.iloc[:, 12]\n",
    "x2 = df2.iloc[:, [0,2,3,4,5,6,7,8,9,13,14,15,16,17]].astype(float)\n",
    "y2 = df2.iloc[:, 12]\n",
    "\n",
    "x1_train, x1_test, y1_train, y1_test = train_test_split(x1, y1, test_size = 0.2, random_state = 1, stratify = df1.Country_code)\n",
    "print(\"training and testing sets for G7 countries:\")\n",
    "print((x1_train).shape)\n",
    "print((x1_test).shape)\n",
    "print(x1.shape)\n",
    "\n",
    "x2_train, x2_test, y2_train, y2_test = train_test_split(x2, y2, test_size = 0.2, random_state = 1, stratify = df2.Country_code)\n",
    "print(\"training and testing sets for BRICS countries:\")\n",
    "print((x2_train).shape)\n",
    "print((x2_test).shape)\n",
    "print(x2.shape)"
   ]
  },
  {
   "cell_type": "markdown",
   "metadata": {},
   "source": [
    "### (1) G7 countries"
   ]
  },
  {
   "cell_type": "markdown",
   "metadata": {},
   "source": [
    "### (a) KNN classifier:"
   ]
  },
  {
   "cell_type": "code",
   "execution_count": null,
   "metadata": {
    "scrolled": true
   },
   "outputs": [],
   "source": [
    "knn = KNeighborsClassifier()\n",
    "knn.fit(x1_train, y1_train)\n",
    "prediction = knn.predict(x1_test)\n",
    "print(\"predicted: \", prediction)\n",
    "print(\"actual: \", y1_test.values)\n",
    "confusion_matrix(y1_test, prediction)"
   ]
  },
  {
   "cell_type": "markdown",
   "metadata": {},
   "source": [
    "### Paramter search using GridSearchCV:"
   ]
  },
  {
   "cell_type": "code",
   "execution_count": null,
   "metadata": {
    "scrolled": true
   },
   "outputs": [],
   "source": [
    "grids = {'n_neighbors': np.arange(1, 10), 'weights': ['uniform','distance']}\n",
    "knn_grid = KNeighborsClassifier()\n",
    "knn_grid = GridSearchCV(knn_grid, grids, cv = 5)\n",
    "knn_grid.fit(x1_train, y1_train)\n",
    "\n",
    "n = knn_grid.best_params_['n_neighbors']\n",
    "knn = KNeighborsClassifier(n_neighbors = n)\n",
    "print(n)\n",
    "print(knn_grid.best_score_ )\n",
    "\n",
    "knn.fit(x1_train, y1_train)\n",
    "prediction = knn.predict(x1_test)\n",
    "print(\"predicted: \", prediction)\n",
    "print(\"actual: \", y1_test.values)\n",
    "confusion_matrix(y1_test, prediction)"
   ]
  },
  {
   "cell_type": "markdown",
   "metadata": {},
   "source": [
    "### (b) Naive Bayes Classifier:"
   ]
  },
  {
   "cell_type": "code",
   "execution_count": null,
   "metadata": {
    "scrolled": false
   },
   "outputs": [],
   "source": [
    "naiveBayes = GaussianNB()\n",
    "naiveBayes.fit(x1_train, y1_train)\n",
    "print(\"predicted: \", naiveBayes.predict(x1_test))\n",
    "print(\"actual: \", y1_test.values)\n",
    "confusion_matrix(y1_test, naiveBayes.predict(x1_test))"
   ]
  },
  {
   "cell_type": "markdown",
   "metadata": {},
   "source": [
    "### (2) BRICS countires"
   ]
  },
  {
   "cell_type": "markdown",
   "metadata": {},
   "source": [
    "### (a) KNN classifier:"
   ]
  },
  {
   "cell_type": "code",
   "execution_count": null,
   "metadata": {
    "scrolled": false
   },
   "outputs": [],
   "source": [
    "knn = KNeighborsClassifier()\n",
    "knn.fit(x2_train, y2_train)\n",
    "prediction = knn.predict(x2_test)\n",
    "print(\"predicted: \", prediction)\n",
    "print(\"actual: \", y2_test.values)\n",
    "confusion_matrix(y2_test, prediction)"
   ]
  },
  {
   "cell_type": "markdown",
   "metadata": {},
   "source": [
    "### Paramter search using GridSearchCV:"
   ]
  },
  {
   "cell_type": "code",
   "execution_count": null,
   "metadata": {
    "scrolled": true
   },
   "outputs": [],
   "source": [
    "grids = {'n_neighbors': np.arange(1, 10), 'weights': ['uniform','distance']}\n",
    "knn_grid = KNeighborsClassifier()\n",
    "knn_grid = GridSearchCV(knn_grid, grids, cv = 5)\n",
    "knn_grid.fit(x2_train, y2_train)\n",
    "print(n)\n",
    "print(knn_grid.best_score_ )\n",
    "\n",
    "n = knn_grid.best_params_['n_neighbors']\n",
    "knn = KNeighborsClassifier(n_neighbors = n)\n",
    "knn.fit(x2_train, y2_train)\n",
    "prediction = knn.predict(x2_test)\n",
    "print(\"predicted: \", prediction)\n",
    "print(\"actual: \", y2_test.values)\n",
    "confusion_matrix(y2_test, prediction)"
   ]
  },
  {
   "cell_type": "markdown",
   "metadata": {},
   "source": [
    "### (b) Naive Bayes Classifier:"
   ]
  },
  {
   "cell_type": "code",
   "execution_count": null,
   "metadata": {
    "scrolled": true
   },
   "outputs": [],
   "source": [
    "naiveBayes = GaussianNB()\n",
    "naiveBayes.fit(x2_train, y2_train)\n",
    "print(\"predicted: \", naiveBayes.predict(x2_test))\n",
    "print(\"actual: \", y2_test.values)\n",
    "confusion_matrix(y2_test, naiveBayes.predict(x2_test))"
   ]
  },
  {
   "cell_type": "markdown",
   "metadata": {},
   "source": [
    "### (3) G7 and BRICS combined:"
   ]
  },
  {
   "cell_type": "markdown",
   "metadata": {},
   "source": [
    "### Cross Validation sets:"
   ]
  },
  {
   "cell_type": "code",
   "execution_count": null,
   "metadata": {
    "scrolled": false
   },
   "outputs": [],
   "source": [
    "x1 = df1.iloc[:, [0,2,3,4,5,6,7,8,9,11]].astype(float)\n",
    "y1 = df1.iloc[:, 12]\n",
    "x2 = df2.iloc[:, [0,2,3,4,5,6,7,8,9,11]].astype(float)\n",
    "y2 = df2.iloc[:, 12]\n",
    "\n",
    "x = pd.concat([x1, x2])\n",
    "y = pd.concat([y1, y2])\n",
    "\n",
    "x.reset_index(inplace = True)\n",
    "x = pd.concat([x, pd.DataFrame(encode.fit_transform(x[[\"Country_code\"]]), columns = G7 + BRICS)], axis = 1)\n",
    "\n",
    "x_train, x_test, y_train, y_test = train_test_split(x, y, test_size = 0.2, random_state = 1, stratify = x.Country_code)\n",
    "print(\"training and testing sets for two datasets combined:\")\n",
    "print((x_train).shape)\n",
    "print((x_test).shape)\n",
    "print(x.shape)"
   ]
  },
  {
   "cell_type": "markdown",
   "metadata": {},
   "source": [
    "### (a) KNN classifier:"
   ]
  },
  {
   "cell_type": "code",
   "execution_count": null,
   "metadata": {
    "scrolled": true
   },
   "outputs": [],
   "source": [
    "knn = KNeighborsClassifier()\n",
    "knn.fit(x_train, y_train)\n",
    "prediction = knn.predict(x_test)\n",
    "print(\"predicted: \", prediction)\n",
    "print(\"actual: \", y_test.values)\n",
    "confusion_matrix(y_test, prediction)"
   ]
  },
  {
   "cell_type": "markdown",
   "metadata": {},
   "source": [
    "### Paramter search using GridSearchCV:"
   ]
  },
  {
   "cell_type": "code",
   "execution_count": null,
   "metadata": {
    "scrolled": true
   },
   "outputs": [],
   "source": [
    "grids = {'n_neighbors': np.arange(1, 10), 'weights': ['uniform','distance']}\n",
    "knn_grid = KNeighborsClassifier()\n",
    "knn_grid = GridSearchCV(knn_grid, grids, cv = 5)\n",
    "knn_grid.fit(x_train, y_train)\n",
    "\n",
    "n = knn_grid.best_params_['n_neighbors']\n",
    "print(n)\n",
    "print(knn_grid.best_score_ )\n",
    "\n",
    "knn = KNeighborsClassifier(n_neighbors = n)\n",
    "knn.fit(x_train, y_train)\n",
    "prediction = knn.predict(x_test)\n",
    "print(\"predicted: \", prediction)\n",
    "print(\"actual: \", y_test.values)\n",
    "confusion_matrix(y_test, prediction)"
   ]
  },
  {
   "cell_type": "markdown",
   "metadata": {},
   "source": [
    "### (b) Naive Bayes Classifier:"
   ]
  },
  {
   "cell_type": "code",
   "execution_count": null,
   "metadata": {
    "scrolled": false
   },
   "outputs": [],
   "source": [
    "naiveBayes = GaussianNB()\n",
    "naiveBayes.fit(x_train, y_train)\n",
    "print(\"predicted: \", naiveBayes.predict(x_test))\n",
    "print(\"actual: \", y_test.values)\n",
    "(confusion_matrix(y_test, naiveBayes.predict(x_test)))"
   ]
  },
  {
   "cell_type": "markdown",
   "metadata": {},
   "source": [
    "### Part II: predicting CPI as a numeric variable\n",
    "### Cross Validation sets:"
   ]
  },
  {
   "cell_type": "code",
   "execution_count": null,
   "metadata": {
    "scrolled": false
   },
   "outputs": [],
   "source": [
    "# treat country_code as categorical variable:\n",
    "x1 = df1.iloc[:, [0,2,3,4,5,6,7,8,9,11]]\n",
    "y1 = df1.iloc[:, 1]\n",
    "x2 = df2.iloc[:, [0,2,3,4,5,6,7,8,9,11]]\n",
    "y2 = df2.iloc[:, 1]\n",
    "\n",
    "x1_train, x1_test, y1_train, y1_test = train_test_split(x1, y1, test_size = 0.2, random_state = 1, stratify = x1.Country_code)\n",
    "x2_train, x2_test, y2_train, y2_test = train_test_split(x2, y2, test_size = 0.2, random_state = 1, stratify = x2.Country_code)\n",
    "\n",
    "x1[\"Group\"] = 1\n",
    "x2[\"Group\"] = 2\n",
    "x = pd.concat([x1, x2])\n",
    "y = pd.concat([y1, y2])\n",
    "\n",
    "x.reset_index(inplace = True)\n",
    "x.drop(\"index\", axis = 1, inplace = True)\n",
    "x = pd.concat([x, pd.DataFrame(encode.fit_transform(x[[\"Group\"]]), columns = [\"G7\", \"BRICS\"])], axis = 1)\n",
    "x_origin = x.copy()\n",
    "x = pd.concat([x, pd.DataFrame(encode.fit_transform(x[[\"Country_code\"]]), columns = G7 + BRICS)], axis = 1)\n",
    "\n",
    "# for MLR modeling:\n",
    "df = pd.concat([x, y.reset_index().iloc[:, 1]], axis = 1)\n",
    "\n",
    "x_train, x_test, y_train, y_test = train_test_split(x, y, test_size = 0.2, random_state = 1, stratify = x.Country_code)\n",
    "print(\"training and testing sets for two datasets combined:\")\n",
    "print((x_train).shape)\n",
    "print((x_test).shape)\n",
    "print(x.shape)\n",
    "\n",
    "# for future predictions (with country_code):\n",
    "x_train_code, x_test_code, y_train_code, y_test_code = train_test_split(x_origin, y, test_size = 0.2, random_state = 1, stratify = x.Country_code)\n",
    "print(\"training and testing sets for two datasets combined (without tranforming country_code):\")\n",
    "print((x_train_code).shape)\n",
    "print((x_test_code).shape)\n",
    "print(x_origin.shape)"
   ]
  },
  {
   "cell_type": "markdown",
   "metadata": {},
   "source": [
    "### Multiple linear regression model for G7:"
   ]
  },
  {
   "cell_type": "code",
   "execution_count": null,
   "metadata": {},
   "outputs": [],
   "source": [
    "linear1 = linear_model.LinearRegression()\n",
    "linear1.fit(x1_train, y1_train)\n",
    "linear1.score(x1_train, y1_train)"
   ]
  },
  {
   "cell_type": "markdown",
   "metadata": {},
   "source": [
    "### Multiple linear regression model for BRICS:"
   ]
  },
  {
   "cell_type": "code",
   "execution_count": null,
   "metadata": {},
   "outputs": [],
   "source": [
    "linear2 = linear_model.LinearRegression()\n",
    "linear2.fit(x2_train, y2_train)\n",
    "linear2.score(x2_train, y2_train)"
   ]
  },
  {
   "cell_type": "markdown",
   "metadata": {},
   "source": [
    "### Multiple linear regression model for G7 and BRICS combined:"
   ]
  },
  {
   "cell_type": "code",
   "execution_count": null,
   "metadata": {},
   "outputs": [],
   "source": [
    "x_train = x_train.drop(\"Country_code\", axis = 1)\n",
    "linear = linear_model.LinearRegression()\n",
    "linear.fit(x_train, y_train)\n",
    "linear.score(x_train, y_train)"
   ]
  },
  {
   "cell_type": "markdown",
   "metadata": {},
   "source": [
    "### Multiple linear regression with country code (as numeric):"
   ]
  },
  {
   "cell_type": "code",
   "execution_count": null,
   "metadata": {},
   "outputs": [],
   "source": [
    "## x_train = x_train.drop(\"Country_code\", axis = 1) already not inside the dataframe\n",
    "linear_s = linear_model.LinearRegression()\n",
    "linear_s.fit(x_train_code, y_train_code)\n",
    "linear_s.score(x_train_code, y_train_code)"
   ]
  },
  {
   "cell_type": "markdown",
   "metadata": {},
   "source": [
    "### Cross Validation on linear model:"
   ]
  },
  {
   "cell_type": "code",
   "execution_count": null,
   "metadata": {},
   "outputs": [],
   "source": [
    "cv = model_selection.ShuffleSplit(n_splits = 3, test_size = 0.2, random_state = 0)\n",
    "cv_linear = model_selection.cross_val_score(linear1, x1, y1, cv = cv)\n",
    "print(cv_linear)\n",
    "print(np.mean(cv_linear))"
   ]
  },
  {
   "cell_type": "code",
   "execution_count": null,
   "metadata": {},
   "outputs": [],
   "source": [
    "cv = model_selection.ShuffleSplit(n_splits = 3, test_size = 0.2, random_state = 0)\n",
    "cv_linear = model_selection.cross_val_score(linear2, x2, y2, cv = cv)\n",
    "print(cv_linear)\n",
    "print(np.mean(cv_linear))"
   ]
  },
  {
   "cell_type": "code",
   "execution_count": null,
   "metadata": {
    "scrolled": false
   },
   "outputs": [],
   "source": [
    "cv = model_selection.ShuffleSplit(n_splits = 3, test_size = 0.2, random_state = 0)\n",
    "cv_linear = model_selection.cross_val_score(linear, x, y, cv = cv)\n",
    "print(cv_linear)\n",
    "print(np.mean(cv_linear))"
   ]
  },
  {
   "cell_type": "markdown",
   "metadata": {},
   "source": [
    "### Test Statistics from ANOVA:\n",
    "Note: with the issue of overfitting"
   ]
  },
  {
   "cell_type": "code",
   "execution_count": null,
   "metadata": {},
   "outputs": [],
   "source": [
    "import statsmodels.api as sm\n",
    "import statsmodels.formula.api as smf"
   ]
  },
  {
   "cell_type": "code",
   "execution_count": null,
   "metadata": {
    "scrolled": true
   },
   "outputs": [],
   "source": [
    "model = smf.ols(\"CPI ~ Year + GDP  + Energy + Tech + Education + Rates + Internet + Tourism + Health + C(Country_code)\", data = df1)\n",
    "results = model.fit()\n",
    "print(results.summary())"
   ]
  },
  {
   "cell_type": "code",
   "execution_count": null,
   "metadata": {
    "scrolled": true
   },
   "outputs": [],
   "source": [
    "# without using country_code:\n",
    "model = smf.ols(\"CPI ~ Year + GDP  + Energy + Tech + Education + Rates + Internet + Tourism + Health\", data = df1)\n",
    "results = model.fit()\n",
    "print(results.summary())"
   ]
  },
  {
   "cell_type": "code",
   "execution_count": null,
   "metadata": {
    "scrolled": true
   },
   "outputs": [],
   "source": [
    "model = smf.ols(\"CPI ~ Year + GDP  + Energy + Tech + Education + Internet + Tourism + Health + C(Country_code)\", data = df2)\n",
    "results = model.fit()\n",
    "print(results.summary())"
   ]
  },
  {
   "cell_type": "code",
   "execution_count": null,
   "metadata": {
    "scrolled": false
   },
   "outputs": [],
   "source": [
    "# without using country_code:\n",
    "model = smf.ols(\"CPI ~ Year + GDP  + Energy + Tech + Education + Internet + Tourism + Health\", data = df2)\n",
    "results = model.fit()\n",
    "print(results.summary())"
   ]
  },
  {
   "cell_type": "code",
   "execution_count": null,
   "metadata": {
    "scrolled": true
   },
   "outputs": [],
   "source": [
    "model = smf.ols(\"CPI ~ Year + GDP  + Energy + Tech + Education + Internet + Tourism + Health + C(Group) + C(Country_code)\", data = df)\n",
    "results = model.fit()\n",
    "print(results.summary())"
   ]
  },
  {
   "cell_type": "code",
   "execution_count": null,
   "metadata": {
    "scrolled": true
   },
   "outputs": [],
   "source": [
    "simplified = smf.ols(\"CPI ~ Year + GDP + C(Group) + C(Country_code) + Tech + Education\", data = df)\n",
    "results = simplified.fit()\n",
    "print(results.summary())"
   ]
  },
  {
   "cell_type": "markdown",
   "metadata": {},
   "source": [
    "### Testing on G20 countries (not in G7 nor in BRICS):"
   ]
  },
  {
   "cell_type": "code",
   "execution_count": null,
   "metadata": {
    "scrolled": true
   },
   "outputs": [],
   "source": [
    "# testing on G20 countries (not in G7 nor in BRICS) (Note: no data entry for South Korea, and only one entry for Argentina)\n",
    "# added test countries: New Zealand and Singapore\n",
    "testing = [\"Australia\", 'Saudi Arabia', 'India', 'Turkey', 'Mexico', 'Indonesia', 'New Zealand', 'Singapore']  # Argentina\n",
    "CPI.loc[years, testing]"
   ]
  },
  {
   "cell_type": "code",
   "execution_count": null,
   "metadata": {
    "scrolled": true
   },
   "outputs": [],
   "source": [
    "df_test = pd.DataFrame()\n",
    "for name in testing: \n",
    "    table = pd.DataFrame(CPI.stack().loc[list(years), name])\n",
    "    table = pd.concat([table, pd.DataFrame(GDP.stack().loc[list(years), name]), pd.DataFrame(energy.stack().loc[list(years), name]), pd.DataFrame(tech.stack().loc[list(years), name]), pd.DataFrame(education.stack().loc[list(years), name]), pd.DataFrame(rates.stack().loc[list(years), name]), pd.DataFrame(internet.stack().loc[list(years), name]), pd.DataFrame(tourism.stack().loc[list(years), name]), pd.DataFrame(health.stack().loc[list(years), name])], keys = [\"CPI\", \"GDP\", \"Energy\", \"Tech\", \"Education\", \"Rates\", \"Internet\", \"Tourism\", \"Health\"], axis = 1)\n",
    "    table.fillna(method = \"ffill\", inplace = True)\n",
    "    table.fillna(method = \"bfill\", inplace = True)\n",
    "    df_test = pd.concat([df_test, table])\n",
    "    \n",
    "df_test.fillna(0, inplace = True)\n",
    "\n",
    "df_test.columns = df_test.columns.droplevel(1)\n",
    "df_test[\"Country\"] = df_test.index.get_level_values(1)\n",
    "df_test.index = df_test.index.droplevel(1)\n",
    "df_test.reset_index(inplace = True)"
   ]
  },
  {
   "cell_type": "code",
   "execution_count": null,
   "metadata": {
    "scrolled": false
   },
   "outputs": [],
   "source": [
    "code_test = {\"Australia\" : 13, \"Saudi Arabia\" : 14, \"India\" : 15, \"Turkey\" : 16, \"Mexico\" : 17, \"Indonesia\" : 18, 'New Zealand' : 19, 'Singapore' : 20}\n",
    "group_code = {\"Australia\" : 1, \"Saudi Arabia\" : 1, \"India\" : 2, \"Turkey\" : 2, \"Mexico\" : 2, \"Indonesia\" : 2, 'New Zealand' : 1, 'Singapore' : 1}\n",
    "\n",
    "df_test[\"Country_code\"] = [code_test[country] for country in df_test.Country]\n",
    "df_test[\"Group\"] = [group_code[country] for country in df_test.Country]"
   ]
  },
  {
   "cell_type": "code",
   "execution_count": null,
   "metadata": {},
   "outputs": [],
   "source": [
    "x_test = df_test.iloc[:, [0,2,3,4,5,6,7,8,9,11,12]]\n",
    "y_test = df_test.iloc[:, 1]\n",
    "\n",
    "x_test.reset_index(inplace = True)\n",
    "x = pd.concat([x_test, pd.DataFrame(encode.fit_transform(x_test[[\"Group\"]]), columns = [\"G7\", \"BRICS\"])], axis = 1)\n",
    "x.drop(\"index\", axis = 1, inplace = True)\n",
    "# for MLR modeling:\n",
    "df_testing = pd.concat([x, y_test.reset_index().iloc[:, 1]], axis = 1)\n",
    "x.head()"
   ]
  },
  {
   "cell_type": "code",
   "execution_count": null,
   "metadata": {
    "scrolled": false
   },
   "outputs": [],
   "source": [
    "print(x_train_code.shape)\n",
    "print(x.shape)"
   ]
  },
  {
   "cell_type": "code",
   "execution_count": null,
   "metadata": {},
   "outputs": [],
   "source": [
    "# MLR with country_code predictor (instead of categorical variable for country_code):\n",
    "linear_s.score(x, y_test)"
   ]
  },
  {
   "cell_type": "code",
   "execution_count": null,
   "metadata": {},
   "outputs": [],
   "source": [
    "# MLR without country_code predictor:\n",
    "# x = x.drop(\"Country_code\", axis = 1)\n",
    "# x.head()"
   ]
  },
  {
   "cell_type": "code",
   "execution_count": null,
   "metadata": {},
   "outputs": [],
   "source": [
    "# MLR with country_code predictor:\n",
    "# linear_s.score(x, y_test)"
   ]
  },
  {
   "cell_type": "code",
   "execution_count": null,
   "metadata": {},
   "outputs": [],
   "source": [
    "model = smf.ols(\"CPI ~ Year + GDP  + Energy + Tech + Education + Internet + Tourism + Health + C(Group) + C(Country_code)\", data = df_testing)\n",
    "results = model.fit()\n",
    "print(results.summary())"
   ]
  },
  {
   "cell_type": "markdown",
   "metadata": {},
   "source": [
    "## 6. Results and Analysis:"
   ]
  },
  {
   "cell_type": "markdown",
   "metadata": {
    "collapsed": true
   },
   "source": [
    "### Part I: predicting CPI range (categorical)\n",
    "#### Results:\n",
    "- G7 countries:\n",
    "    - KNN: tends to predict higher CPI range.\n",
    "    - Naive Bayes: tends to predict higher CPI range.\n",
    "    - Summary: two classifiers have very similar classification outcomes.\n",
    "- BRICS:\n",
    "    - KNN: tends to predict higher CPI range.\n",
    "    - Naive Bayes: correctly classified all labels in the testing set.\n",
    "    - Summary: has higer correct classification rate than KNN.\n",
    "- G7 and BRICS:\n",
    "    - KNN: tends to have misclassifications on class 1 and class 3.\n",
    "    - Naive Bayes: tends to have misclssifications on class 1.\n",
    "    - Summary: Naive Bayes classifier classifies the label better than KNN classifier.\n",
    "    \n",
    "#### Analysis:\n",
    "(1) Analysis on two types of classifiers:\n",
    "- In KNN classifier, we are looking for the neareast neighbors based on Euclidean distances to decide which class the input belongs to. \n",
    "- In Naive Bayes classifier, we assumed that predictor variables are independent from each other. This is an important simpification in our model, since the macroeconomics predictors (such as GDP, expenditure on energy, expenditure on education, etc.) that we have choosen to use are, to some degree, independent factors that represent the economic growth of countries.\n",
    "- Based on the fact that Naive Bayes classifier has a reasonable assumption that can largely simplify the analysis and increase the accuracy of the classification, we suggest using Naive Bayes classification method in this model.\n",
    "\n",
    "(2) Analysis on three ways of making the classification:\n",
    "- In the classification for G7 countries, it can be observed that there are only two possible labels for the range of CPI: 1 (low CPI) and 2 (moderate CPI). \n",
    "- In the classification for BRICS countries, there are four different labels for the range of CPI, varying from 1 to 4.\n",
    "- The difference between the total number of output classes reflects the fact that these two groups of countries have quite different economic growth pattern, i.e., the developed countries in G7 tend to have more stable range of CPI, while the developing countries in BRICS tend to have more fluctuations in the range of CPI.\n",
    "- This difference between CPI of G7 and BRICS can be observed from the output of three classifications: the correct classification rate is higher when we seperated countries into G7 and BRICS countries.\n",
    "- Therefore, it is more reasonable to analyze the CPI range of G7 and BRICS countries seperately, based on the situation that developed countries and developing countries tend to have large amount of variation in their ecnomic growth pattern."
   ]
  },
  {
   "cell_type": "markdown",
   "metadata": {},
   "source": [
    "#### Multiple Linear Regression Analysis"
   ]
  },
  {
   "cell_type": "markdown",
   "metadata": {},
   "source": [
    "In part II, We decide to predict CPI as a numerical value. Based on the type and distribution of the outcome variable, we selected multiple linear regression. After cross-validation which is the process of determining whether the numerical results quantifying hypothesized relationships between variables.  First we did the cross-validation separately on G7 and BRICS countries. We have 57 sets of data for training group and 15 sets for testing group. After fitting in multiple linear regression, the coefficient of determination for G7 is around 0.9785,  0.9785 for BRICS, which means the multiple linear regression model played a vital role to explain the relationship between CPI and other factors. Even though the coefficient decreased by almost 0.2, after we combined these two group , which is 0.7973. It is reasonable that random errors increased due to the enlarged the sample size. \n",
    "\n",
    "\n",
    "In addition,  we fit the dataset of G7 and BRICS countries separately with linear model. In G7, Despite of years, GDP, Energy, Technology, Education, Rates, Internet, Tourism, and Health, we categorize and add the every countries from G7 as predictors as well. From the output, The every countries, Year, Energy, Education are significant because the p-value is pretty small( less than 0.05).  After we removed the countries from previous model, the predictors of Year and GDP become significant. Year is the only factor that is significant in these two model.As BRICS with country model, all the countries is significant but South Africa, the Year, Energy, and Health features are statistically significant as well. As reduce the predictors, we found out the predictors of Years, Energy, Internet, and Health is significant at 5% level of significance. We have Years, Energy, and Health are significant in both model. After we combined the G7 and BRICS together,  all the countries except Canada and United Kingdom, Year, Energy, Health and Internet are significant predictors. By remove the factors such as Energy, Internet , Health and Tourism. There are four significant factors which is South Africa, Brazil, Year, and Education. \n",
    "As seeing in the performance difference of the training data and validation data, overfitting occurs when all the country_codes are included in the predictors. This may be happening because the country_codes are reductant and they are fitting the random error in the data. Therefore, we excluded country_codes and re-run the training process and the performance on validation dataset improves, which further proves our observation on overfitting. \n"
   ]
  },
  {
   "cell_type": "markdown",
   "metadata": {},
   "source": [
    "### Part II: predicting CPI value (numeric)\n",
    "#### Results:\n",
    "- MLR model for G7 countries:\n",
    "    - $R^{2}_{adj}$: 0.906\n",
    "    - CV score: 0.6131\n",
    "- BRICS:\n",
    "    - $R^{2}_{adj}$: 0.986\n",
    "    - CV score: 0.6869\n",
    "- G7 and BRICS:\n",
    "    - $R^{2}_{adj}$:\n",
    "    - CV score: 0.8208\n",
    "- New testing set of countries:\n",
    "    - $R^{2}$: 0.2678\n",
    "    - $R^{2}_{adj}$ of new model: 0.924\n",
    "    \n",
    "#### Analysis:"
   ]
  },
  {
   "cell_type": "markdown",
   "metadata": {},
   "source": [
    "## 7. Conclusion:"
   ]
  },
  {
   "cell_type": "code",
   "execution_count": null,
   "metadata": {},
   "outputs": [],
   "source": []
  },
  {
   "cell_type": "markdown",
   "metadata": {},
   "source": [
    "## 8. References:\n",
    "\n",
    "- Description of CPI data: http://data.un.org/_Docs/SYB/PDFs/SYB61_T19_Consumer%20Price%20Index.pdf\n",
    "- G7 countries: https://en.wikipedia.org/wiki/Group_of_Seven\n",
    "- BRICS countries: https://en.wikipedia.org/wiki/BRICS\n",
    "- G20 countries: https://en.wikipedia.org/wiki/G20\n",
    "\n",
    "- Factors related to CPI: https://www.investopedia.com/terms/c/consumerpriceindex.asp"
   ]
  }
 ],
 "metadata": {
  "kernelspec": {
   "display_name": "Python 3",
   "language": "python",
   "name": "python3"
  },
  "language_info": {
   "codemirror_mode": {
    "name": "ipython",
    "version": 3
   },
   "file_extension": ".py",
   "mimetype": "text/x-python",
   "name": "python",
   "nbconvert_exporter": "python",
   "pygments_lexer": "ipython3",
   "version": "3.7.1"
  }
 },
 "nbformat": 4,
 "nbformat_minor": 2
}
